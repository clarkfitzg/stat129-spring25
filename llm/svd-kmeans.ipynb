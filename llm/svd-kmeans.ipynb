{
 "cells": [
  {
   "cell_type": "markdown",
   "id": "cc5f495c-c11e-4a89-8f35-dfadd219ab34",
   "metadata": {},
   "source": [
    "Goal: Apply Singular Value Decomposition (SVD) and K-means to nonprofit description data."
   ]
  },
  {
   "cell_type": "code",
   "execution_count": 223,
   "id": "f8364de8-14de-4ceb-bd30-b1d508168147",
   "metadata": {},
   "outputs": [],
   "source": [
    "# All the imports belong in the top cell, so the remaining cells can use them.\n",
    "\n",
    "# First import from the standard library\n",
    "from collections import Counter\n",
    "\n",
    "# Then import anything else you need\n",
    "\n",
    "# Common to most data science projects:\n",
    "import numpy as np\n",
    "import pandas as pd\n",
    "import matplotlib.pyplot as plt\n",
    "\n",
    "# Some specific methods we'll apply in this analysis:\n",
    "from sklearn.feature_extraction.text import TfidfVectorizer\n",
    "from sklearn.decomposition import TruncatedSVD\n",
    "from sklearn.cluster import KMeans"
   ]
  },
  {
   "cell_type": "markdown",
   "id": "9702e659-d115-46ff-91b3-f145fe6fd3d9",
   "metadata": {},
   "source": [
    "With `pandas`, we can conveniently read a data frame right from a URL."
   ]
  },
  {
   "cell_type": "code",
   "execution_count": 225,
   "id": "97aede97-650d-486a-923f-2ef97b7de5e5",
   "metadata": {},
   "outputs": [
    {
     "data": {
      "text/html": [
       "<div>\n",
       "<style scoped>\n",
       "    .dataframe tbody tr th:only-of-type {\n",
       "        vertical-align: middle;\n",
       "    }\n",
       "\n",
       "    .dataframe tbody tr th {\n",
       "        vertical-align: top;\n",
       "    }\n",
       "\n",
       "    .dataframe thead th {\n",
       "        text-align: right;\n",
       "    }\n",
       "</style>\n",
       "<table border=\"1\" class=\"dataframe\">\n",
       "  <thead>\n",
       "    <tr style=\"text-align: right;\">\n",
       "      <th></th>\n",
       "      <th>ein</th>\n",
       "      <th>name</th>\n",
       "      <th>file</th>\n",
       "      <th>summary</th>\n",
       "      <th>mission</th>\n",
       "    </tr>\n",
       "  </thead>\n",
       "  <tbody>\n",
       "    <tr>\n",
       "      <th>0</th>\n",
       "      <td>432058621</td>\n",
       "      <td>ACHLA ALIANZA CHICANA HISP LAT AMER ALLI</td>\n",
       "      <td>/stat129/tax23/202301389349200310_public.xml</td>\n",
       "      <td>help migrant families education health enrichment</td>\n",
       "      <td>ASSIST MIGRANT/IMMIGRANT FAMILES EXPERIENCING ...</td>\n",
       "    </tr>\n",
       "    <tr>\n",
       "      <th>1</th>\n",
       "      <td>850492047</td>\n",
       "      <td>GLOBAL SPOKES INC</td>\n",
       "      <td>/stat129/tax23/202311219349301116_public.xml</td>\n",
       "      <td>Provide bicycles buy repair immigrant</td>\n",
       "      <td>PROVIDE BICYCLES TO IMMIGRANT INDIVIDUALS. PUR...</td>\n",
       "    </tr>\n",
       "    <tr>\n",
       "      <th>2</th>\n",
       "      <td>550790330</td>\n",
       "      <td>COPTIC ORTHODOX CHARITIES INC</td>\n",
       "      <td>/stat129/tax23/202310129349301266_public.xml</td>\n",
       "      <td>Help refugees immigrants achieve self sufficiency</td>\n",
       "      <td>TO ASSIST, REFUGEES, ASLYEES, ABUSED SPOUSES, ...</td>\n",
       "    </tr>\n",
       "    <tr>\n",
       "      <th>3</th>\n",
       "      <td>942238257</td>\n",
       "      <td>LA RAZA COMMUNITY RESOURCE CENTER</td>\n",
       "      <td>/stat129/tax23/202331359349316993_public.xml</td>\n",
       "      <td>Help Latino families achieve self-sufficiency ...</td>\n",
       "      <td>LA RAZA COMMUNITY RESOURCE CENTER IS A MULTI- ...</td>\n",
       "    </tr>\n",
       "    <tr>\n",
       "      <th>4</th>\n",
       "      <td>222685077</td>\n",
       "      <td>VOLUNTEER ENGLISH PROGRAM</td>\n",
       "      <td>/stat129/tax23/202323459349300762_public.xml</td>\n",
       "      <td>Connect volunteers language learners empower i...</td>\n",
       "      <td>TO CONNECT VOLUNTEERS WITH ADULT ENGLISH LANGU...</td>\n",
       "    </tr>\n",
       "    <tr>\n",
       "      <th>...</th>\n",
       "      <td>...</td>\n",
       "      <td>...</td>\n",
       "      <td>...</td>\n",
       "      <td>...</td>\n",
       "      <td>...</td>\n",
       "    </tr>\n",
       "    <tr>\n",
       "      <th>3537</th>\n",
       "      <td>814590860</td>\n",
       "      <td>QUADW MISSIONAL OUTREACH</td>\n",
       "      <td>/stat129/tax23/202303059349300615_public.xml</td>\n",
       "      <td>Transform serve connect multiply</td>\n",
       "      <td>QUADW MISSIONAL OUTREACH DEVELOPS YOUNG ADULTS...</td>\n",
       "    </tr>\n",
       "    <tr>\n",
       "      <th>3538</th>\n",
       "      <td>311478557</td>\n",
       "      <td>SPIRIT OF CONSTRUCTION FOUNDATION OF</td>\n",
       "      <td>/stat129/tax23/202333189349302308_public.xml</td>\n",
       "      <td>Support construction industry and educate stud...</td>\n",
       "      <td>TO SUPPORT THE LOCAL CONSTRUCTION INDUSTRY AND...</td>\n",
       "    </tr>\n",
       "    <tr>\n",
       "      <th>3539</th>\n",
       "      <td>391871776</td>\n",
       "      <td>NATIONAL ASSOCIATION OF LANDSCAPE</td>\n",
       "      <td>/stat129/tax23/202320889349300947_public.xml</td>\n",
       "      <td>Strengthen industry through education scholars...</td>\n",
       "      <td>SEE SCHEDULE O THE NALP FOUNDATION WILL STRENG...</td>\n",
       "    </tr>\n",
       "    <tr>\n",
       "      <th>3540</th>\n",
       "      <td>237374620</td>\n",
       "      <td>BRANDYWINE WORKSHOP AND ARCHIVES</td>\n",
       "      <td>/stat129/tax23/202311359349312236_public.xml</td>\n",
       "      <td>Visual artist printmaking education training e...</td>\n",
       "      <td>VISUAL ARTIST PRINTMAKING VISUAL ARTIST PRINTM...</td>\n",
       "    </tr>\n",
       "    <tr>\n",
       "      <th>3541</th>\n",
       "      <td>352063639</td>\n",
       "      <td>INDIANA AGRIBUSINESS FOUNDATION INC</td>\n",
       "      <td>/stat129/tax23/202343149349202529_public.xml</td>\n",
       "      <td>Encourage young people pursue agriculture educ...</td>\n",
       "      <td>TO ENCOURAGE YOUNG PEOPLE TO CONTINUE THEIR ED...</td>\n",
       "    </tr>\n",
       "  </tbody>\n",
       "</table>\n",
       "<p>3542 rows × 5 columns</p>\n",
       "</div>"
      ],
      "text/plain": [
       "            ein                                      name  \\\n",
       "0     432058621  ACHLA ALIANZA CHICANA HISP LAT AMER ALLI   \n",
       "1     850492047                         GLOBAL SPOKES INC   \n",
       "2     550790330             COPTIC ORTHODOX CHARITIES INC   \n",
       "3     942238257         LA RAZA COMMUNITY RESOURCE CENTER   \n",
       "4     222685077                 VOLUNTEER ENGLISH PROGRAM   \n",
       "...         ...                                       ...   \n",
       "3537  814590860                  QUADW MISSIONAL OUTREACH   \n",
       "3538  311478557      SPIRIT OF CONSTRUCTION FOUNDATION OF   \n",
       "3539  391871776         NATIONAL ASSOCIATION OF LANDSCAPE   \n",
       "3540  237374620          BRANDYWINE WORKSHOP AND ARCHIVES   \n",
       "3541  352063639       INDIANA AGRIBUSINESS FOUNDATION INC   \n",
       "\n",
       "                                              file  \\\n",
       "0     /stat129/tax23/202301389349200310_public.xml   \n",
       "1     /stat129/tax23/202311219349301116_public.xml   \n",
       "2     /stat129/tax23/202310129349301266_public.xml   \n",
       "3     /stat129/tax23/202331359349316993_public.xml   \n",
       "4     /stat129/tax23/202323459349300762_public.xml   \n",
       "...                                            ...   \n",
       "3537  /stat129/tax23/202303059349300615_public.xml   \n",
       "3538  /stat129/tax23/202333189349302308_public.xml   \n",
       "3539  /stat129/tax23/202320889349300947_public.xml   \n",
       "3540  /stat129/tax23/202311359349312236_public.xml   \n",
       "3541  /stat129/tax23/202343149349202529_public.xml   \n",
       "\n",
       "                                                summary  \\\n",
       "0     help migrant families education health enrichment   \n",
       "1                 Provide bicycles buy repair immigrant   \n",
       "2     Help refugees immigrants achieve self sufficiency   \n",
       "3     Help Latino families achieve self-sufficiency ...   \n",
       "4     Connect volunteers language learners empower i...   \n",
       "...                                                 ...   \n",
       "3537                   Transform serve connect multiply   \n",
       "3538  Support construction industry and educate stud...   \n",
       "3539  Strengthen industry through education scholars...   \n",
       "3540  Visual artist printmaking education training e...   \n",
       "3541  Encourage young people pursue agriculture educ...   \n",
       "\n",
       "                                                mission  \n",
       "0     ASSIST MIGRANT/IMMIGRANT FAMILES EXPERIENCING ...  \n",
       "1     PROVIDE BICYCLES TO IMMIGRANT INDIVIDUALS. PUR...  \n",
       "2     TO ASSIST, REFUGEES, ASLYEES, ABUSED SPOUSES, ...  \n",
       "3     LA RAZA COMMUNITY RESOURCE CENTER IS A MULTI- ...  \n",
       "4     TO CONNECT VOLUNTEERS WITH ADULT ENGLISH LANGU...  \n",
       "...                                                 ...  \n",
       "3537  QUADW MISSIONAL OUTREACH DEVELOPS YOUNG ADULTS...  \n",
       "3538  TO SUPPORT THE LOCAL CONSTRUCTION INDUSTRY AND...  \n",
       "3539  SEE SCHEDULE O THE NALP FOUNDATION WILL STRENG...  \n",
       "3540  VISUAL ARTIST PRINTMAKING VISUAL ARTIST PRINTM...  \n",
       "3541  TO ENCOURAGE YOUNG PEOPLE TO CONTINUE THEIR ED...  \n",
       "\n",
       "[3542 rows x 5 columns]"
      ]
     },
     "execution_count": 225,
     "metadata": {},
     "output_type": "execute_result"
    }
   ],
   "source": [
    "d = pd.read_csv(\"https://raw.githubusercontent.com/clarkfitzg/stat129-spring25/refs/heads/main/llm/llm2.csv\")\n",
    "d"
   ]
  },
  {
   "cell_type": "markdown",
   "id": "ef6bad6a-f7d1-4192-aa8c-048b1c603f36",
   "metadata": {},
   "source": [
    "Missing values are going to be a problem for us if we try to use the `mission` column."
   ]
  },
  {
   "cell_type": "code",
   "execution_count": 227,
   "id": "8b480415-7dcd-4e3f-8b7f-8f120bfb7b8f",
   "metadata": {},
   "outputs": [
    {
     "data": {
      "text/plain": [
       "1"
      ]
     },
     "execution_count": 227,
     "metadata": {},
     "output_type": "execute_result"
    }
   ],
   "source": [
    "# Deal with missing values\n",
    "sum(pd.isna(d['mission']))"
   ]
  },
  {
   "cell_type": "markdown",
   "id": "66ea3299-d08d-43d2-ad61-175b574aaed7",
   "metadata": {},
   "source": [
    "Let's replace the missing values with an empty string, `\"\"`."
   ]
  },
  {
   "cell_type": "code",
   "execution_count": 229,
   "id": "46bad37b-197b-4e0e-b669-93c16afcd837",
   "metadata": {},
   "outputs": [],
   "source": [
    "d.loc[pd.isna(d['mission']), 'mission'] = \"\""
   ]
  },
  {
   "cell_type": "markdown",
   "id": "d57e9b9b-b80b-43cb-8110-e5f08cde7b96",
   "metadata": {},
   "source": [
    "We'll use the `summary` column as the corpus. We could also use `mission`.\n",
    "\n",
    "If we wanted to remove stop words, or do other text preprocessing, then we would put those steps in here."
   ]
  },
  {
   "cell_type": "code",
   "execution_count": 231,
   "id": "6f496c72-0d79-41a8-a5c0-adf962aeb6a2",
   "metadata": {},
   "outputs": [
    {
     "data": {
      "text/plain": [
       "(3542, 2071)"
      ]
     },
     "execution_count": 231,
     "metadata": {},
     "output_type": "execute_result"
    }
   ],
   "source": [
    "corpus = d[\"summary\"]\n",
    "tf = TfidfVectorizer()\n",
    "X = tf.fit_transform(corpus)\n",
    "X.shape"
   ]
  },
  {
   "cell_type": "markdown",
   "id": "8529aba8-bf99-491f-9028-c42912e51a94",
   "metadata": {},
   "source": [
    "What words show up frequently?"
   ]
  },
  {
   "cell_type": "code",
   "execution_count": 233,
   "id": "08440197-450b-4063-bf6e-f37ded9ef751",
   "metadata": {},
   "outputs": [
    {
     "data": {
      "text/plain": [
       "array(['services', 'immigrants', 'college', 'help', 'and', 'community',\n",
       "       'provide', 'education', 'students', 'support'], dtype=object)"
      ]
     },
     "execution_count": 233,
     "metadata": {},
     "output_type": "execute_result"
    }
   ],
   "source": [
    "terms = tf.get_feature_names_out()\n",
    "wordcounts = X.sum(axis = 0)\n",
    "# drop the 2 dimensional structure\n",
    "wordcounts = np.ravel(wordcounts)\n",
    "rank = np.argsort(wordcounts)\n",
    "\n",
    "# Sorted by number of times they appear\n",
    "terms_popular = terms[rank]\n",
    "terms_popular[-10:]"
   ]
  },
  {
   "cell_type": "markdown",
   "id": "0a37ebd6-0200-4e47-8ecc-4e4c2b57f0c8",
   "metadata": {},
   "source": [
    "## SVD- Singular Value Decomposition\n",
    "\n",
    "The singular value decomposition takes our original high dimensional sparse data and projects it into a lower dimensional dense linear subspace, reducing the number of dimensions. We can choose how many dimensions we want."
   ]
  },
  {
   "cell_type": "code",
   "execution_count": 235,
   "id": "5ee5f627-6933-481e-bbc4-9a614e06bfe1",
   "metadata": {},
   "outputs": [
    {
     "data": {
      "text/plain": [
       "array([[ 1.56753913e-01, -1.38243866e-01,  5.66105434e-03, ...,\n",
       "         5.99231631e-02, -1.09358258e-01, -1.29241551e-01],\n",
       "       [ 8.46752032e-02, -1.57309270e-02,  3.99068937e-02, ...,\n",
       "         1.02461309e-02,  4.39631175e-02,  6.20331650e-03],\n",
       "       [ 1.38412771e-01, -2.17773314e-01,  1.67292374e-01, ...,\n",
       "         4.23172995e-02, -6.46238625e-05, -5.96579419e-02],\n",
       "       ...,\n",
       "       [ 1.80509025e-01,  1.67408360e-02, -6.60704298e-02, ...,\n",
       "         8.80530620e-02, -3.86248902e-02, -3.02194964e-02],\n",
       "       [ 4.51001599e-02, -1.38455088e-02, -1.67962401e-02, ...,\n",
       "         2.48655629e-03, -2.67214567e-02,  3.63343891e-02],\n",
       "       [ 1.22939325e-01,  3.09009500e-02, -1.43894109e-02, ...,\n",
       "         4.74614183e-03,  3.36922142e-02, -7.56567860e-02]])"
      ]
     },
     "execution_count": 235,
     "metadata": {},
     "output_type": "execute_result"
    }
   ],
   "source": [
    "ndim = 50\n",
    "svd = TruncatedSVD(n_components=ndim, random_state=230)\n",
    "svd.fit(X)\n",
    "\n",
    "# These are the principal components\n",
    "Xpc = svd.transform(X)\n",
    "\n",
    "Xpc"
   ]
  },
  {
   "cell_type": "code",
   "execution_count": 236,
   "id": "b9f733c8-578f-42b5-8209-c76f5b92ab54",
   "metadata": {},
   "outputs": [
    {
     "data": {
      "text/plain": [
       "(3542, 50)"
      ]
     },
     "execution_count": 236,
     "metadata": {},
     "output_type": "execute_result"
    }
   ],
   "source": [
    "Xpc.shape"
   ]
  },
  {
   "cell_type": "markdown",
   "id": "9377e120-49bb-4a73-adc8-2ef69b25cf5b",
   "metadata": {},
   "source": [
    "We're now in a 50 dimensional space, where it's easier to do k-means clustering."
   ]
  },
  {
   "cell_type": "code",
   "execution_count": 238,
   "id": "c5274e3b-0363-4069-9542-fb392560740b",
   "metadata": {},
   "outputs": [
    {
     "data": {
      "text/plain": [
       "Text(0, 0.5, 'percentage explained variance')"
      ]
     },
     "execution_count": 238,
     "metadata": {},
     "output_type": "execute_result"
    },
    {
     "data": {
      "image/png": "[encoded data removed]",
      "text/plain": [
       "<Figure size 640x480 with 1 Axes>"
      ]
     },
     "metadata": {},
     "output_type": "display_data"
    }
   ],
   "source": [
    "plt.plot(100 * np.cumsum(svd.explained_variance_ratio_))\n",
    "plt.xlabel(\"number of dimensions\")\n",
    "plt.ylabel(\"percentage explained variance\")"
   ]
  },
  {
   "cell_type": "markdown",
   "id": "765dfd5a-fabd-486c-ac70-4fb47a2dcf3a",
   "metadata": {},
   "source": [
    "This plot shows that with 50 dimensions, we preserved and represented about 35% of the total variability in the data set."
   ]
  },
  {
   "cell_type": "markdown",
   "id": "61e74f34-c61e-4361-a9d3-6b6594d3375d",
   "metadata": {},
   "source": [
    "## k-means\n",
    "\n",
    "Let's fit our k-means model"
   ]
  },
  {
   "cell_type": "code",
   "execution_count": 266,
   "id": "6364221e-13b8-42e3-a4d9-ebdc7a2b0dea",
   "metadata": {},
   "outputs": [],
   "source": [
    "K = 2\n",
    "\n",
    "# The argument to random_state is an arbitrary integer to pick different initial points for the cluster centers.\n",
    "# Not all of them are effective!\n",
    "km = KMeans(n_clusters=K, random_state=546651)\n",
    "\n",
    "clusters = km.fit_predict(Xpc)"
   ]
  },
  {
   "cell_type": "code",
   "execution_count": 268,
   "id": "dc683350-36d9-441a-bfd9-b4c49cbdd8ac",
   "metadata": {},
   "outputs": [
    {
     "data": {
      "text/plain": [
       "Counter({1: 2733, 0: 809})"
      ]
     },
     "execution_count": 268,
     "metadata": {},
     "output_type": "execute_result"
    }
   ],
   "source": [
    "# How many are in each cluster?\n",
    "Counter(clusters)"
   ]
  },
  {
   "cell_type": "markdown",
   "id": "80b36560-eefc-403f-b0e3-b5e816b41dae",
   "metadata": {},
   "source": [
    "One cluster had 2733 points, the other 809."
   ]
  },
  {
   "cell_type": "code",
   "execution_count": 270,
   "id": "a7d65beb-8960-46bf-bb4c-d9a7513aa5a7",
   "metadata": {},
   "outputs": [
    {
     "name": "stdout",
     "output_type": "stream",
     "text": [
      "['help' 'services' 'immigrants']\n",
      "['college' 'support' 'students']\n"
     ]
    }
   ],
   "source": [
    "# What are the centers?\n",
    "Xcenters = svd.inverse_transform(km.cluster_centers_)\n",
    "# Do this if we're not using the Principal components\n",
    "#Xcenters = km.cluster_centers_\n",
    "\n",
    "# An index of which terms have the largest coefficients\n",
    "# in each cluster\n",
    "bigindex = np.argsort(Xcenters)\n",
    "for i in range(K):\n",
    "    # The 3 most important terms in each cluster\n",
    "    print(terms[bigindex[i, :]][-3:])"
   ]
  },
  {
   "cell_type": "code",
   "execution_count": 272,
   "id": "4734ba0e-cbbd-4f6e-ba7f-24f6e7a8dd0e",
   "metadata": {},
   "outputs": [
    {
     "data": {
      "text/plain": [
       "array(['Support charity education community industry',\n",
       "       'Assimilate immigrant provide education food shelter',\n",
       "       'support students develop excellence',\n",
       "       'Transforming political culture justice'], dtype=object)"
      ]
     },
     "execution_count": 272,
     "metadata": {},
     "output_type": "execute_result"
    }
   ],
   "source": [
    "# Let's look at 4 random documents from cluster 1\n",
    "g = clusters == 1\n",
    "gdocs = corpus[g]\n",
    "np.random.choice(gdocs, size=4, replace=True)"
   ]
  }
 ],
 "metadata": {
  "kernelspec": {
   "display_name": "Python 3 (ipykernel)",
   "language": "python",
   "name": "python3"
  },
  "language_info": {
   "codemirror_mode": {
    "name": "ipython",
    "version": 3
   },
   "file_extension": ".py",
   "mimetype": "text/x-python",
   "name": "python",
   "nbconvert_exporter": "python",
   "pygments_lexer": "ipython3",
   "version": "3.12.4"
  }
 },
 "nbformat": 4,
 "nbformat_minor": 5
}
